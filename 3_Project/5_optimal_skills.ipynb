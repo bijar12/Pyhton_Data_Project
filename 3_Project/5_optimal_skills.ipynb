{
 "cells": [
  {
   "cell_type": "markdown",
   "metadata": {},
   "source": [
    "## What is the most Optimal skill to learn for Data Scientist?\n",
    "\n",
    "### Methodology\n",
    "\n",
    "##### 1. Group Skills to determine median salary and likhehood of being in posting \n",
    "##### 2.Visualize Median salary vs Percent salary\n",
    "##### 3.(Optional) Determine if certain technologies are more prevelent"
   ]
  },
  {
   "cell_type": "code",
   "execution_count": 1,
   "metadata": {},
   "outputs": [],
   "source": [
    "#importing libraries\n",
    "import ast\n",
    "import pandas as pd\n",
    "from datasets import load_dataset\n",
    "import matplotlib.pyplot as plt\n",
    "import seaborn as sns\n",
    "# loading Data\n",
    "dataset= load_dataset(\"lukebarousse/data_jobs\")\n",
    "df=dataset['train'].to_pandas()\n",
    "\n",
    "# Data Cleanup\n",
    "df['job_posted_date']=pd.to_datetime(df['job_posted_date'])\n",
    "df['job_skills']= df[\"job_skills\"].apply(lambda x: ast.literal_eval(x) if pd.notna(x) else x)\n",
    "\n",
    "#Filter For Data Scientist Data\n",
    "#df_DS= df[df[\"job_title_short\"]==\"Data Scientist\"].copy()"
   ]
  },
  {
   "cell_type": "code",
   "execution_count": 2,
   "metadata": {},
   "outputs": [],
   "source": [
    "df_DS_Pak=df[(df[\"job_title_short\"]== \"Data Scientist\")  &  (df['job_country']== \"Pakistan\")].copy()"
   ]
  },
  {
   "cell_type": "code",
   "execution_count": 4,
   "metadata": {},
   "outputs": [
    {
     "data": {
      "text/html": [
       "<div>\n",
       "<style scoped>\n",
       "    .dataframe tbody tr th:only-of-type {\n",
       "        vertical-align: middle;\n",
       "    }\n",
       "\n",
       "    .dataframe tbody tr th {\n",
       "        vertical-align: top;\n",
       "    }\n",
       "\n",
       "    .dataframe thead th {\n",
       "        text-align: right;\n",
       "    }\n",
       "</style>\n",
       "<table border=\"1\" class=\"dataframe\">\n",
       "  <thead>\n",
       "    <tr style=\"text-align: right;\">\n",
       "      <th></th>\n",
       "      <th>salary_year_avg</th>\n",
       "      <th>job_skills</th>\n",
       "    </tr>\n",
       "  </thead>\n",
       "  <tbody>\n",
       "    <tr>\n",
       "      <th>75724</th>\n",
       "      <td>157500.0</td>\n",
       "      <td>python</td>\n",
       "    </tr>\n",
       "    <tr>\n",
       "      <th>75724</th>\n",
       "      <td>157500.0</td>\n",
       "      <td>sql</td>\n",
       "    </tr>\n",
       "    <tr>\n",
       "      <th>75724</th>\n",
       "      <td>157500.0</td>\n",
       "      <td>r</td>\n",
       "    </tr>\n",
       "    <tr>\n",
       "      <th>75724</th>\n",
       "      <td>157500.0</td>\n",
       "      <td>tableau</td>\n",
       "    </tr>\n",
       "    <tr>\n",
       "      <th>87668</th>\n",
       "      <td>109500.0</td>\n",
       "      <td>r</td>\n",
       "    </tr>\n",
       "  </tbody>\n",
       "</table>\n",
       "</div>"
      ],
      "text/plain": [
       "       salary_year_avg job_skills\n",
       "75724         157500.0     python\n",
       "75724         157500.0        sql\n",
       "75724         157500.0          r\n",
       "75724         157500.0    tableau\n",
       "87668         109500.0          r"
      ]
     },
     "execution_count": 4,
     "metadata": {},
     "output_type": "execute_result"
    }
   ],
   "source": [
    "df_DS_Pak=df_DS_Pak.dropna(subset=[\"salary_year_avg\"])\n",
    "\n",
    "df_DS_pak_explode= df_DS_Pak.explode('job_skills')\n",
    "\n",
    "df_DS_pak_explode[['salary_year_avg', 'job_skills']].head(5)"
   ]
  },
  {
   "cell_type": "code",
   "execution_count": 12,
   "metadata": {},
   "outputs": [
    {
     "data": {
      "text/html": [
       "<div>\n",
       "<style scoped>\n",
       "    .dataframe tbody tr th:only-of-type {\n",
       "        vertical-align: middle;\n",
       "    }\n",
       "\n",
       "    .dataframe tbody tr th {\n",
       "        vertical-align: top;\n",
       "    }\n",
       "\n",
       "    .dataframe thead th {\n",
       "        text-align: right;\n",
       "    }\n",
       "</style>\n",
       "<table border=\"1\" class=\"dataframe\">\n",
       "  <thead>\n",
       "    <tr style=\"text-align: right;\">\n",
       "      <th></th>\n",
       "      <th>skill_count</th>\n",
       "      <th>median_salary</th>\n",
       "      <th>skill_percent</th>\n",
       "    </tr>\n",
       "    <tr>\n",
       "      <th>job_skills</th>\n",
       "      <th></th>\n",
       "      <th></th>\n",
       "      <th></th>\n",
       "    </tr>\n",
       "  </thead>\n",
       "  <tbody>\n",
       "    <tr>\n",
       "      <th>python</th>\n",
       "      <td>3</td>\n",
       "      <td>157500.0</td>\n",
       "      <td>100.000000</td>\n",
       "    </tr>\n",
       "    <tr>\n",
       "      <th>r</th>\n",
       "      <td>3</td>\n",
       "      <td>157500.0</td>\n",
       "      <td>100.000000</td>\n",
       "    </tr>\n",
       "    <tr>\n",
       "      <th>sql</th>\n",
       "      <td>3</td>\n",
       "      <td>157500.0</td>\n",
       "      <td>100.000000</td>\n",
       "    </tr>\n",
       "    <tr>\n",
       "      <th>hadoop</th>\n",
       "      <td>2</td>\n",
       "      <td>133500.0</td>\n",
       "      <td>66.666667</td>\n",
       "    </tr>\n",
       "    <tr>\n",
       "      <th>tableau</th>\n",
       "      <td>2</td>\n",
       "      <td>133500.0</td>\n",
       "      <td>66.666667</td>\n",
       "    </tr>\n",
       "    <tr>\n",
       "      <th>nosql</th>\n",
       "      <td>1</td>\n",
       "      <td>109500.0</td>\n",
       "      <td>33.333333</td>\n",
       "    </tr>\n",
       "    <tr>\n",
       "      <th>power bi</th>\n",
       "      <td>1</td>\n",
       "      <td>109500.0</td>\n",
       "      <td>33.333333</td>\n",
       "    </tr>\n",
       "    <tr>\n",
       "      <th>spark</th>\n",
       "      <td>1</td>\n",
       "      <td>109500.0</td>\n",
       "      <td>33.333333</td>\n",
       "    </tr>\n",
       "  </tbody>\n",
       "</table>\n",
       "</div>"
      ],
      "text/plain": [
       "            skill_count  median_salary  skill_percent\n",
       "job_skills                                           \n",
       "python                3       157500.0     100.000000\n",
       "r                     3       157500.0     100.000000\n",
       "sql                   3       157500.0     100.000000\n",
       "hadoop                2       133500.0      66.666667\n",
       "tableau               2       133500.0      66.666667\n",
       "nosql                 1       109500.0      33.333333\n",
       "power bi              1       109500.0      33.333333\n",
       "spark                 1       109500.0      33.333333"
      ]
     },
     "execution_count": 12,
     "metadata": {},
     "output_type": "execute_result"
    }
   ],
   "source": [
    "df_DS_skills=df_DS_pak_explode.groupby(\"job_skills\")[\"salary_year_avg\"].agg([\"count\", 'median']).sort_values(by='count' , ascending=False)\n",
    "df_DS_skills=df_DS_skills.rename(columns={'count':\"skill_count\" , 'median':\"median_salary\"})\n",
    "DS_job_count= len(df_DS_Pak)\n",
    "df_DS_skills['skill_percent']=df_DS_skills['skill_count']/ DS_job_count*100\n",
    "skill_percent=5\n",
    "df_DS_skills_high_demand= df_DS_skills[df_DS_skills['skill_percent']> skill_percent]\n",
    "\n",
    "df_DS_skills_high_demand"
   ]
  },
  {
   "cell_type": "code",
   "execution_count": 20,
   "metadata": {},
   "outputs": [
    {
     "data": {
      "image/png": "[encoded data removed]",
      "text/plain": [
       "<Figure size 640x480 with 1 Axes>"
      ]
     },
     "metadata": {},
     "output_type": "display_data"
    }
   ],
   "source": [
    "from adjustText import adjust_text\n",
    "\n",
    "df_DS_skills_high_demand.plot(kind='scatter' , x='skill_percent' , y='median_salary')\n",
    "texts=[]\n",
    "for i,txt in enumerate(df_DS_skills_high_demand.index):\n",
    "   texts.append( plt.text(df_DS_skills_high_demand['skill_percent'].iloc[i], df_DS_skills_high_demand['median_salary'].iloc[i],txt))\n",
    "adjust_text(texts, arrowprops=dict(arrowstyle=\"->\", color=\"gray\", lw=1))\n",
    "\n",
    "# ax=plt.gca()\n",
    "# ax.yaxis.set_major_formatter(plt.FuncFormatter(lambda y, pos: f'${int(y/1000)}K'))\n",
    "\n",
    "plt.ylabel(\"Median  Yearly salary\") \n",
    "plt.xlabel(\"Percentage of Data Scientist Jobs\")\n",
    "\n",
    "plt.title(f\"Most Optimal skills for Data Scientist in Pakistan \")\n",
    "\n",
    "from matplotlib.ticker import PercentFormatter\n",
    "ax= plt.gca()\n",
    "ax.yaxis.set_major_formatter(plt.FuncFormatter(lambda y, pos: f'${int(y/1000)}K'))\n",
    "ax.xaxis.set_major_formatter(PercentFormatter(decimals=0))\n",
    "\n",
    "plt.tight_layout()\n",
    "plt.show()"
   ]
  },
  {
   "cell_type": "code",
   "execution_count": 21,
   "metadata": {},
   "outputs": [
    {
     "data": {
      "text/plain": [
       "0                                                 None\n",
       "1    {'analyst_tools': ['power bi', 'tableau'], 'pr...\n",
       "2    {'analyst_tools': ['dax'], 'cloud': ['azure'],...\n",
       "3    {'cloud': ['aws'], 'libraries': ['tensorflow',...\n",
       "4    {'cloud': ['oracle', 'aws'], 'other': ['ansibl...\n",
       "5    {'cloud': ['gcp'], 'programming': ['python', '...\n",
       "6    {'cloud': ['gcp', 'bigquery'], 'databases': ['...\n",
       "7    {'cloud': ['gcp', 'azure', 'aws', 'bigquery', ...\n",
       "8    {'analyst_tools': ['excel', 'powerpoint', 'pow...\n",
       "9    {'analyst_tools': ['excel'], 'cloud': ['azure'...\n",
       "Name: job_type_skills, dtype: object"
      ]
     },
     "execution_count": 21,
     "metadata": {},
     "output_type": "execute_result"
    }
   ],
   "source": [
    "df['job_type_skills'].head(10)"
   ]
  },
  {
   "cell_type": "code",
   "execution_count": 29,
   "metadata": {},
   "outputs": [],
   "source": [
    "df_technology= df[\"job_type_skills\"].copy()\n",
    "\n",
    "#remove Duplicates\n",
    "df_technology=df_technology.drop_duplicates()\n",
    "\n",
    "#remove NaN Values\n",
    "df_technology=df_technology.dropna()\n",
    "\n",
    "#Combine all Dictionaries into one\n",
    "technology_dict={}\n",
    "for row in df_technology:\n",
    "        row_dict= ast.literal_eval(row) # convert string to dictioanary\n",
    "        for key, value in row_dict.items():\n",
    "            if key in technology_dict: #if key already exists in technology dict, add value to existing\n",
    "                technology_dict[key] +=value\n",
    "            else:\n",
    "                technology_dict[key]=value\n",
    "\n",
    "    # remove duplicates by converting values to set then back to list\n",
    "\n",
    "for key, value in technology_dict.items():\n",
    "        technology_dict[key]= list(set(value))\n",
    "\n",
    "\n",
    "        technology_dict\n"
   ]
  },
  {
   "cell_type": "code",
   "execution_count": null,
   "metadata": {},
   "outputs": [],
   "source": []
  }
 ],
 "metadata": {
  "kernelspec": {
   "display_name": "python_course",
   "language": "python",
   "name": "python3"
  },
  "language_info": {
   "codemirror_mode": {
    "name": "ipython",
    "version": 3
   },
   "file_extension": ".py",
   "mimetype": "text/x-python",
   "name": "python",
   "nbconvert_exporter": "python",
   "pygments_lexer": "ipython3",
   "version": "3.11.9"
  }
 },
 "nbformat": 4,
 "nbformat_minor": 2
}
